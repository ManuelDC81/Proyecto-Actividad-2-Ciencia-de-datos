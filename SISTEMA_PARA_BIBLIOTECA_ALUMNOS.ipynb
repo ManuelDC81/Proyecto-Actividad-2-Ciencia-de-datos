{
  "nbformat": 4,
  "nbformat_minor": 0,
  "metadata": {
    "colab": {
      "provenance": [],
      "include_colab_link": true
    },
    "kernelspec": {
      "name": "python3",
      "display_name": "Python 3"
    },
    "language_info": {
      "name": "python"
    }
  },
  "cells": [
    {
      "cell_type": "markdown",
      "metadata": {
        "id": "view-in-github",
        "colab_type": "text"
      },
      "source": [
        "<a href=\"https://colab.research.google.com/github/ManuelDC81/Proyecto-Actividad-2-Ciencia-de-datos/blob/main/SISTEMA_PARA_BIBLIOTECA_ALUMNOS.ipynb\" target=\"_parent\"><img src=\"https://colab.research.google.com/assets/colab-badge.svg\" alt=\"Open In Colab\"/></a>"
      ]
    },
    {
      "cell_type": "markdown",
      "source": [
        "Sistema para biblioteca.\n",
        "Dado una lista con información de libros, se debe crear las siguientes funciones:\n",
        "\n",
        "*promedio_cant_disp(libros): se debe calcular la cantidad\n",
        "en promedio que hay de cada libro, ó sea, calcular el\n",
        "promedio total de los libros\n",
        "\n",
        "*libro_mas_disponible(libros): debe retornar el titulo del libro que tiene mas cantidad de libros disponibles\n",
        "\n",
        "*libro_por_autor(libros, autor): debe retornar los diferentes titulos del autor pedido y la cantidad de libros que existen disponibles de este.\n",
        "\n"
      ],
      "metadata": {
        "id": "hkO6gi6JiZmk"
      }
    },
    {
      "cell_type": "code",
      "source": [
        "def promedio_cant_disp(libros):\n",
        "\n",
        "    promedio = 0\n",
        "\n",
        "    if len(libros) == 0:\n",
        "\n",
        "        return (\"No hay libros disponibles\")\n",
        "\n",
        "    for e in libros:\n",
        "\n",
        "        promedio += e[2]\n",
        "\n",
        "    if promedio == 0:\n",
        "\n",
        "        return (\"No hay libros disponibles\")\n",
        "\n",
        "    else:\n",
        "\n",
        "        return (promedio / len(libros))\n",
        "\n",
        "\n",
        "\n",
        "def libro_mas_disponible(libros):\n",
        "\n",
        "    max_cant = 0\n",
        "    index = 0\n",
        "\n",
        "    for i in range(len(libros)):\n",
        "\n",
        "      for j in range(2, len(libros[0])):\n",
        "\n",
        "          if max_cant < libros[i][j]:\n",
        "\n",
        "              max_cant = libros[i][j]\n",
        "\n",
        "              index = i\n",
        "\n",
        "    if len(libros) == 0 or max_cant == 0:\n",
        "\n",
        "      return None\n",
        "\n",
        "    return (libros[index][0])\n",
        "\n",
        "\n",
        "\n",
        "def libro_por_autor(libros, autor):\n",
        "\n",
        "  lista_titulos = list()\n",
        "\n",
        "  if libro_mas_disponible(libros) == None:\n",
        "\n",
        "    return None\n",
        "\n",
        "  else:\n",
        "\n",
        "    for i in range(len(libros)):\n",
        "\n",
        "        for j in range(1, len(libros[0])-1):\n",
        "\n",
        "            if libros[i][j] == autor:\n",
        "\n",
        "                lista_titulos.append((libros[i][0], libros[i][2]))\n",
        "\n",
        "    return lista_titulos\n",
        "\n",
        "\n",
        "\n",
        "lista_libros = [\n",
        "    [\"El principito\", \"Antoine de Saint-Exupery\", 9],\n",
        "    [\"Lo que el viento se llevo\", \"Margaret Mitchell\", 4],\n",
        "    [\"Harry Potter y la piedra filosofal\", \"J.K. Rowling\", 6],\n",
        "    [\"Harry Potter y el caliz de fuego\", \"J.K. Rowling\", 7],\n",
        "    [\"Orgullo y prejuicio\",\"Jane Austen\", 5],\n",
        "    [\"Robinson Crusoe\", \"Daniel Defoe\", 7],\n",
        "    [\"Un mundo feliz\", \"Aldous Huxley\", 11]\n",
        "]\n",
        "assert promedio_cant_disp(lista_libros) == 7\n",
        "lista_libros1 = [\n",
        "    [\"El principito\", \"Antoine de Saint-Exupery\", 0],\n",
        "    [\"Lo que el viento se llevo\", \"Margaret Mitchell\", 0],\n",
        "    [\"Harry Potter y la piedra filosofal\", \"J.K. Rowling\", 0],\n",
        "    [\"Harry Potter y el caliz de fuego\", \"J.K. Rowling\", 0],\n",
        "    [\"Orgullo y prejuicio\",\"Jane Austen\", 0],\n",
        "    [\"Robinson Crusoe\", \"Daniel Defoe\", 0],\n",
        "    [\"Un mundo feliz\", \"Aldous Huxley\", 0]\n",
        "]\n",
        "assert promedio_cant_disp(lista_libros1) == (\"No hay libros disponibles\")\n",
        "lista_libros2 = []\n",
        "assert promedio_cant_disp(lista_libros2) == (\"No hay libros disponibles\")\n",
        "assert libro_mas_disponible(lista_libros) == \"Un mundo feliz\"\n",
        "assert libro_mas_disponible(lista_libros1) == None\n",
        "assert libro_mas_disponible(lista_libros2) == None\n",
        "assert libro_por_autor(lista_libros, \"J.K. Rowling\") == [(\"Harry Potter y la piedra filosofal\", 6), (\"Harry Potter y el caliz de fuego\", 7)]\n",
        "assert libro_por_autor(lista_libros1, \"J.K. Rowling\") == None\n",
        "assert libro_por_autor(lista_libros2, \"J.K. Rowling\") == None"
      ],
      "metadata": {
        "id": "G_91a-D5khVW"
      },
      "execution_count": null,
      "outputs": []
    },
    {
      "cell_type": "code",
      "source": [],
      "metadata": {
        "id": "nNXfmkwZ0x3y"
      },
      "execution_count": null,
      "outputs": []
    }
  ]
}