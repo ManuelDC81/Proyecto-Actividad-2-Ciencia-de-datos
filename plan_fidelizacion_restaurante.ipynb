{
  "nbformat": 4,
  "nbformat_minor": 0,
  "metadata": {
    "colab": {
      "provenance": [],
      "authorship_tag": "ABX9TyPhY5/0wFn/mn+D3A9WADj6",
      "include_colab_link": true
    },
    "kernelspec": {
      "name": "python3",
      "display_name": "Python 3"
    },
    "language_info": {
      "name": "python"
    }
  },
  "cells": [
    {
      "cell_type": "markdown",
      "metadata": {
        "id": "view-in-github",
        "colab_type": "text"
      },
      "source": [
        "<a href=\"https://colab.research.google.com/github/ManuelDC81/Proyecto-Actividad-2-Ciencia-de-datos/blob/main/plan_fidelizacion_restaurante.ipynb\" target=\"_parent\"><img src=\"https://colab.research.google.com/assets/colab-badge.svg\" alt=\"Open In Colab\"/></a>"
      ]
    },
    {
      "cell_type": "markdown",
      "source": [
        "En un restaurante, se ha implementado un programa de fidelización en el cual los clientes reciben un descuento especial después de realizar un número (n)determinado de compras. Además, los clientes acumulan puntos con cada compra, que pueden verificar cuando lo deseen.\n",
        "\n",
        "EL objetivo del ejercicio es desarrollar una función que recibe como parámetros de entrada una matriz y el número (n) de veces que debe comprar para recibir el descuento y devuela una lista con: los nombres de los clientes, el valor de los descuentos recibidos, el número de veces que ha recibido descuentos y los puntos acumulados. El descuento se aplica en la vez (n). El descuento será de un 10% sobre el valor de la compra en la vez (n) y el % para la acumulación de puntos será el valor resultante de aplicar el 1% en cada compra. La lista debe estar ordenada de mayor a menor según la cantidad de puntos acumulados.\n"
      ],
      "metadata": {
        "id": "swJFw_DUGBer"
      }
    },
    {
      "cell_type": "code",
      "source": [
        "def programa_fidelizacion(m, n):\n",
        "    # Listas para almacenar la información de cada cliente\n",
        "    clientes = []\n",
        "    compras = []\n",
        "    puntos = []\n",
        "    descuentos = []\n",
        "    valor_descuentos = []\n",
        "\n",
        "    # Procesamos cada compra de la matriz de entrada\n",
        "    for compra in m:\n",
        "        nombre, valor_compra = compra\n",
        "\n",
        "        # Buscamos el índice del cliente en la lista clientes. Esto nos servirá\n",
        "        # para asignar a idx el índice en cuya posicion se encuentra el cliente\n",
        "        # en la lista clientes. De esta manera podremos asignar a las otras listas\n",
        "        # los valores correspondientes y en el índice en cuya posición se encontró\n",
        "        # el nombre del cliente.\n",
        "        idx = -1\n",
        "        for i in range(len(clientes)):\n",
        "            if clientes[i] == nombre:\n",
        "                idx = i\n",
        "                None\n",
        "        if idx == -1:\n",
        "            clientes.append(nombre)\n",
        "            compras.append(0)\n",
        "            puntos.append(0)\n",
        "            descuentos.append(0)\n",
        "            valor_descuentos.append(0)\n",
        "            idx = len(clientes) - 1\n",
        "\n",
        "        # Actualizamos el número de compras\n",
        "        compras[idx] += 1\n",
        "\n",
        "        # Verificamos si es una compra con descuento, esto sucede cuando\n",
        "        # el numero de compras llega a n y actualizamos el número de descuentos\n",
        "        # obtenidos.\n",
        "        if compras[idx] % n == 0:\n",
        "            descuento = 0.1 * valor_compra\n",
        "            valor_descuentos[idx] += descuento\n",
        "            descuentos[idx] += 1\n",
        "        else:\n",
        "            descuento = 0\n",
        "\n",
        "        # Calculamos los puntos acumulados\n",
        "        puntos[idx] += 0.01 * valor_compra\n",
        "\n",
        "    # Creamos una la lista de resultados\n",
        "    lista_resultados = []\n",
        "    for i in range(len(clientes)):\n",
        "        lista_resultados.append([clientes[i], valor_descuentos[i], descuentos[i], puntos[i]])\n",
        "\n",
        "    # Ordenamos la lista por puntos acumulados de mayor a menor (ordenamiento burbuja)\n",
        "    for i in range(len(lista_resultados) - 1):\n",
        "        for j in range(i + 1, len(lista_resultados)):\n",
        "            if lista_resultados[i][3] < lista_resultados[j][3]:\n",
        "                lista_resultados[i], lista_resultados[j] = lista_resultados[j], lista_resultados[i]\n",
        "\n",
        "    return lista_resultados\n",
        "\n",
        "matriz_compras = [[\"Juan\", 40],\n",
        "                  [\"Maria\", 30],\n",
        "                  [\"Pedro\", 50],\n",
        "                  [\"Ana\", 10],\n",
        "                  [\"Juan\", 90],\n",
        "                  [\"Ana\", 120],\n",
        "                  [\"Juan\", 20],\n",
        "                  [\"Maria\", 60],\n",
        "                  [\"Pedro\", 10],\n",
        "                  [\"Ana\", 80],\n",
        "                  [\"Juan\", 15],\n",
        "                  [\"Juan\", 45],\n",
        "                  [\"Maria\", 25],\n",
        "                  [\"Juan\", 30]\n",
        "                  ]\n",
        "assert(programa_fidelizacion(matriz_compras, 3) == [[\"Juan\", 5.0, 2, 2.4],\n",
        "                                                    [\"Ana\", 8.0, 1, 2.1],\n",
        "                                                    [\"Maria\", 2.5, 1, 1.15],\n",
        "                                                    [\"Pedro\", 0.0, 0, 0.6]])"
      ],
      "metadata": {
        "id": "caNjtPX0HjEM"
      },
      "execution_count": null,
      "outputs": []
    }
  ]
}