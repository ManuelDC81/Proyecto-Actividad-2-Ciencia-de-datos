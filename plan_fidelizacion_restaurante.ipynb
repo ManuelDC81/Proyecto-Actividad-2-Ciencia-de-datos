{
  "nbformat": 4,
  "nbformat_minor": 0,
  "metadata": {
    "colab": {
      "provenance": [],
      "include_colab_link": true
    },
    "kernelspec": {
      "name": "python3",
      "display_name": "Python 3"
    },
    "language_info": {
      "name": "python"
    }
  },
  "cells": [
    {
      "cell_type": "markdown",
      "metadata": {
        "id": "view-in-github",
        "colab_type": "text"
      },
      "source": [
        "<a href=\"https://colab.research.google.com/github/ManuelDC81/Proyecto-Actividad-2-Ciencia-de-datos/blob/main/plan_fidelizacion_restaurante.ipynb\" target=\"_parent\"><img src=\"https://colab.research.google.com/assets/colab-badge.svg\" alt=\"Open In Colab\"/></a>"
      ]
    },
    {
      "cell_type": "markdown",
      "source": [
        "En un restaurante, se ha implementado un programa de fidelización en el cual los clientes reciben un descuento especial después de realizar un número (n)determinado de compras. Además, los clientes acumulan puntos con cada compra, que pueden verificar cuando lo deseen.\n",
        "\n",
        "EL objetivo del ejercicio es desarrollar una función que recibe como parámetros de entrada una matriz y el número (n) de veces que debe comprar para recibir el descuento y devuela una lista con: los nombres de los clientes, el valor de los descuentos recibidos, el número de veces que ha recibido descuentos y los puntos acumulados. El descuento se aplica en la vez (n). El descuento será de un 10% sobre el valor de la compra en la vez (n) y el % para la acumulación de puntos será el valor resultante de aplicar el 1% en cada compra. La lista debe estar ordenada de mayor a menor según la cantidad de puntos acumulados.\n"
      ],
      "metadata": {
        "id": "swJFw_DUGBer"
      }
    },
    {
      "cell_type": "code",
      "source": [
        "def programa_fidelizacion(m, n):\n",
        "    pass\n",
        "\n",
        "\n",
        "matriz_compras = [[\"Juan\", 40],\n",
        "                  [\"Maria\", 30],\n",
        "                  [\"Pedro\", 50],\n",
        "                  [\"Ana\", 10],\n",
        "                  [\"Juan\", 90],\n",
        "                  [\"Ana\", 120],\n",
        "                  [\"Juan\", 20],\n",
        "                  [\"Maria\", 60],\n",
        "                  [\"Pedro\", 10],\n",
        "                  [\"Ana\", 80],\n",
        "                  [\"Juan\", 15],\n",
        "                  [\"Juan\", 45],\n",
        "                  [\"Maria\", 25],\n",
        "                  [\"Juan\", 30]\n",
        "                  ]\n",
        "assert(programa_fidelizacion(matriz_compras, 3) == [[\"Juan\", 5.0, 2, 2.4],\n",
        "                                                    [\"Ana\", 8.0, 1, 2.1],\n",
        "                                                    [\"Maria\", 2.5, 1, 1.15],\n",
        "                                                    [\"Pedro\", 0.0, 0, 0.6]])\n",
        "assert(programa_fidelizacion(matriz_compras, 2) == [['Juan', 13.5, 3, 2.4],\n",
        "                                                    ['Ana', 12.0, 1, 2.1],\n",
        "                                                    ['Maria', 6.0, 1, 1.15],\n",
        "                                                    ['Pedro', 1.0, 1, 0.6]])\n",
        "assert(programa_fidelizacion(matriz_compras, 4) == [['Juan', 1.5, 1, 2.4],\n",
        "                                                    ['Ana', 0, 0, 2.1],\n",
        "                                                    ['Maria', 0, 0, 1.15],\n",
        "                                                    ['Pedro', 0, 0, 0.6]])\n",
        "assert(programa_fidelizacion(matriz_compras, 4) == [['Juan', 1.5, 1, 2.4],\n",
        "                                                    ['Ana', 0, 0, 2.1],\n",
        "                                                    ['Maria', 0, 0, 1.15],\n",
        "                                                    ['Pedro', 0, 0, 0.6]])\n",
        "\n",
        "\n"
      ],
      "metadata": {
        "id": "caNjtPX0HjEM"
      },
      "execution_count": 8,
      "outputs": []
    }
  ]
}