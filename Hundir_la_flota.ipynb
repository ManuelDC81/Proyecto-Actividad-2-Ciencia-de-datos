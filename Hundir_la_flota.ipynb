{
  "nbformat": 4,
  "nbformat_minor": 0,
  "metadata": {
    "colab": {
      "provenance": [],
      "authorship_tag": "ABX9TyMOUbpbP/HzbofVTqEkL2Xd",
      "include_colab_link": true
    },
    "kernelspec": {
      "name": "python3",
      "display_name": "Python 3"
    },
    "language_info": {
      "name": "python"
    }
  },
  "cells": [
    {
      "cell_type": "markdown",
      "metadata": {
        "id": "view-in-github",
        "colab_type": "text"
      },
      "source": [
        "<a href=\"https://colab.research.google.com/github/ManuelDC81/Proyecto-Actividad-2-Ciencia-de-datos/blob/main/Hundir_la_flota.ipynb\" target=\"_parent\"><img src=\"https://colab.research.google.com/assets/colab-badge.svg\" alt=\"Open In Colab\"/></a>"
      ]
    },
    {
      "cell_type": "markdown",
      "source": [
        "Desarrollar una versión simplificada del juego \"Hundir la flota\". Este ejercicio tiene como objetivo construir un juego que nos sirve de pequeño\n",
        "reto sobre lo aprendido hasta ahora. Hay que usar estructuras de datos como condiciones y listas aplicado a matrices.\n",
        "\n",
        "El hundir la flota es un juego de parejas pero en este caso será un solo jugador contra la máquina.\n",
        "\n",
        "El juego original consta de una matriz donde hay que descubrir si detrás hay un barco para disparar e intentar hundirlo. En este caso por simplificar, no hace falta que sea anónima esta matriz, puede ser visible y cada casilla debe indicar si hay un barco o no.\n",
        "\n",
        "Tampoco hace falta que sea un juego completo ni dificil, vale con una simulación de una tirada y lo complejo que quieras hacerlo es cosa tuya,\n",
        "el objetivo es:\n",
        "\n",
        "* Crear tablero (matriz de juego) según los parámetros introducidos.\n",
        "* Colocar barcos (1x1) en el tablero.\n",
        "* Preguntar por pantalla casillas a revelar.\n",
        "* Mostrar la matriz en pantalla con el resultado de la petición del jugador, comunicando el resultado del juego (victoria o fallo).\n",
        "\n",
        "Consideraciones:\n",
        "\n",
        "Controla los datos de entrada introducidos, si son válidos y/o están dentro de un rango/tablero marcado.\n",
        "\n",
        "Evita los bucles y permite una partida con inicio y fin.\n",
        "\n",
        "Comenta en el código como controlas las excepciones y casos esquina.\n",
        "\n",
        "Debe ejecutarse llamando a la función jugar_hundir_la_flota(tamaño, barcos) pasandole de parámetros dos valores numéricos con el tamaño\n",
        "de la matriz cuadrada y el número de barcos que quieres que se muestren."
      ],
      "metadata": {
        "id": "05_aQb864Sz5"
      }
    },
    {
      "cell_type": "code",
      "source": [
        "import random\n",
        "def crear_matriz_zeros(n_filas, n_columnas):\n",
        "  m = []\n",
        "  for i in range(n_filas):\n",
        "    m.append([])\n",
        "    for j in range(n_columnas):\n",
        "      m[i].append(0)\n",
        "  return m\n",
        "\n",
        "def colocar_barcos(tablero, num_barcos):\n",
        "  tamaño = len(tablero)\n",
        "  barcos_colocados = 0\n",
        "\n",
        "  while barcos_colocados < num_barcos:\n",
        "    fila = random.randint(0, tamaño - 1)\n",
        "    columna = random.randint(0, tamaño - 1)\n",
        "    if tablero[fila][columna] == 0:\n",
        "      tablero[fila][columna] = 1\n",
        "      barcos_colocados += 1\n",
        "\n",
        "def mostrar_tablero(tablero):\n",
        "  for fila in tablero:\n",
        "    print(\" \".join(str(celda) for celda in fila))\n",
        "\n",
        "def revelar_celda(tablero, x, y):\n",
        "  if tablero[x][y] == 1:\n",
        "    tablero[x][y] = 'v'\n",
        "    print(\"Victoria!!!\")\n",
        "  elif tablero [x][y] == 0:\n",
        "    tablero[x][y] = 'f'\n",
        "    print(\"Fallido\")\n",
        "  mostrar_tablero(tablero)\n",
        "  cont = 0\n",
        "  for fila in tablero:\n",
        "    for elemento in fila:\n",
        "      if elemento == 1:\n",
        "        cont += 1\n",
        "  if cont == 0:\n",
        "    return True\n",
        "  else:\n",
        "    return False\n",
        "\n",
        "\n",
        "def inicializar(tamaño, num_barcos):\n",
        "  tablero = crear_matriz_zeros(tamaño, tamaño)\n",
        "  colocar_barcos(tablero, num_barcos)\n",
        "  mostrar_tablero(tablero)\n",
        "  return tablero\n",
        "\n",
        "def jugar_hundir_la_flota(tamaño, num_barcos):\n",
        "  print(\"Bienvenid@ a python Hundir la flota!\")\n",
        "  tablero = []\n",
        "  cont = num_barcos\n",
        "  if num_barcos < (tamaño * tamaño):\n",
        "    tablero = inicializar(tamaño, num_barcos)\n",
        "  else:\n",
        "    #print(\"El número de barcos de ser inferior a\", (tamaño * tamaño))\n",
        "    raise ValueError(f\"El número de barcos de ser inferior a {tamaño * tamaño}.\")\n",
        "\n",
        "  juego_terminado = False\n",
        "  while not juego_terminado:\n",
        "    coordenadas = input(\"Introduce las coordenadas (x,y): \")\n",
        "    x, y = map(int, coordenadas.split(','))\n",
        "    if 0 <= x < tamaño and 0 <= y < tamaño:\n",
        "      juego_terminado = revelar_celda(tablero, x, y)\n",
        "    else:\n",
        "      print(f\"Las coordenadas están fuera del rango, por favor introduza valores entre 0 y {tamaño - 1}.\")\n",
        "  print(\"Haz hundido todos los barcos, el juego ha terminado.\")\n",
        "\n",
        "# Ejecuta el juego (parámetros tamaño de la matriz y número de barcos)\n",
        "jugar_hundir_la_flota(5, 3)"
      ],
      "metadata": {
        "colab": {
          "base_uri": "https://localhost:8080/"
        },
        "id": "zacJGm-q4b_p",
        "outputId": "a469e686-194a-4982-dbe0-6f959a54e384"
      },
      "execution_count": 9,
      "outputs": [
        {
          "output_type": "stream",
          "name": "stdout",
          "text": [
            "Bienvenid@ a python Hundir la flota!\n",
            "0 0 0 0 1\n",
            "0 0 0 0 0\n",
            "0 0 0 0 0\n",
            "0 0 0 0 0\n",
            "0 0 1 1 0\n",
            "Introduce las coordenadas (x,y): 0,4\n",
            "Victoria!!!\n",
            "0 0 0 0 v\n",
            "0 0 0 0 0\n",
            "0 0 0 0 0\n",
            "0 0 0 0 0\n",
            "0 0 1 1 0\n",
            "Introduce las coordenadas (x,y): 4,2\n",
            "Victoria!!!\n",
            "0 0 0 0 v\n",
            "0 0 0 0 0\n",
            "0 0 0 0 0\n",
            "0 0 0 0 0\n",
            "0 0 v 1 0\n",
            "Introduce las coordenadas (x,y): 4,3\n",
            "Victoria!!!\n",
            "0 0 0 0 v\n",
            "0 0 0 0 0\n",
            "0 0 0 0 0\n",
            "0 0 0 0 0\n",
            "0 0 v v 0\n",
            "Haz hundido todos los barcos, el juego ha terminado.\n"
          ]
        }
      ]
    }
  ]
}