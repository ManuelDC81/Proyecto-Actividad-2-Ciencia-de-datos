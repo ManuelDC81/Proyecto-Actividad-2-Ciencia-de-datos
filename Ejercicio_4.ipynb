{
  "nbformat": 4,
  "nbformat_minor": 0,
  "metadata": {
    "colab": {
      "provenance": [],
      "authorship_tag": "ABX9TyOmwPTYXkfxfz2+bbW6pgku",
      "include_colab_link": true
    },
    "kernelspec": {
      "name": "python3",
      "display_name": "Python 3"
    },
    "language_info": {
      "name": "python"
    }
  },
  "cells": [
    {
      "cell_type": "markdown",
      "metadata": {
        "id": "view-in-github",
        "colab_type": "text"
      },
      "source": [
        "<a href=\"https://colab.research.google.com/github/ManuelDC81/Proyecto-Actividad-2-Ciencia-de-datos/blob/main/Ejercicio_4.ipynb\" target=\"_parent\"><img src=\"https://colab.research.google.com/assets/colab-badge.svg\" alt=\"Open In Colab\"/></a>"
      ]
    },
    {
      "cell_type": "code",
      "execution_count": 2,
      "metadata": {
        "colab": {
          "base_uri": "https://localhost:8080/",
          "height": 1000
        },
        "id": "4gkCk4DwhAou",
        "outputId": "bb28f4e3-25c5-4b51-c274-b4dc5491075d"
      },
      "outputs": [
        {
          "output_type": "stream",
          "name": "stdout",
          "text": [
            "['paquete 1000 1\\n', 't 10\\n', 'perdidos\\n', 'paquete 30 1\\n', 'paquete 30 2\\n', 'paquete 30 3\\n', 't 20\\n', 't 30 \\n', 't 40\\n', 't 50\\n', 'perdidos\\n', 'paquete 60 2\\n', 'paquete 70 1\\n', 't 60\\n', 't 70\\n', 'perdidos\\n', 'paquete 100 2\\n', 'paquete 100 1\\n', 'perdidos\\n', 't 80\\n', 't 90\\n', 't 100\\n', 'perdidos\\n', 'paquete 110 2\\n', 'paquete 130 2\\n', 't 110\\n', 'paquete 170 1\\n', 'paquete 170 1\\n', 'paquete 170 1\\n', 't 120\\n', 't 130\\n', 't 140\\n', 't 150\\n', 'perdidos\\n']\n",
            "['paquete', '1000', '1']\n",
            "['t', '10']\n",
            "[10.0]\n",
            "['perdidos']\n",
            "['paquete', '30', '1']\n",
            "['paquete', '30', '2']\n",
            "['paquete', '30', '3']\n",
            "['t', '20']\n",
            "[20.0]\n",
            "['t', '30']\n",
            "[20.0, 30.0]\n",
            "['t', '40']\n",
            "[20.0, 30.0, 40.0]\n",
            "['t', '50']\n",
            "[20.0, 30.0, 40.0, 50.0]\n",
            "['perdidos']\n",
            "['paquete', '60', '2']\n",
            "['paquete', '70', '1']\n",
            "['t', '60']\n",
            "[60.0]\n",
            "['t', '70']\n",
            "[60.0, 70.0]\n",
            "['perdidos']\n",
            "['paquete', '100', '2']\n",
            "['paquete', '100', '1']\n",
            "['perdidos']\n",
            "['t', '80']\n",
            "[80.0]\n",
            "['t', '90']\n",
            "[80.0, 90.0]\n",
            "['t', '100']\n",
            "[80.0, 90.0, 100.0]\n",
            "['perdidos']\n",
            "['paquete', '110', '2']\n",
            "['paquete', '130', '2']\n",
            "['t', '110']\n",
            "[110.0]\n",
            "['paquete', '170', '1']\n",
            "['paquete', '170', '1']\n",
            "['paquete', '170', '1']\n",
            "['t', '120']\n",
            "[110.0, 120.0]\n",
            "['t', '130']\n",
            "[110.0, 120.0, 130.0]\n",
            "['t', '140']\n",
            "[110.0, 120.0, 130.0, 140.0]\n",
            "['t', '150']\n",
            "[110.0, 120.0, 130.0, 140.0, 150.0]\n",
            "['perdidos']\n"
          ]
        },
        {
          "output_type": "error",
          "ename": "AssertionError",
          "evalue": "",
          "traceback": [
            "\u001b[0;31m---------------------------------------------------------------------------\u001b[0m",
            "\u001b[0;31mAssertionError\u001b[0m                            Traceback (most recent call last)",
            "\u001b[0;32m<ipython-input-2-c02e59bd52b2>\u001b[0m in \u001b[0;36m<cell line: 55>\u001b[0;34m()\u001b[0m\n\u001b[1;32m     53\u001b[0m \u001b[0;34m\u001b[0m\u001b[0m\n\u001b[1;32m     54\u001b[0m \u001b[0msimulador_servidor_prioridad\u001b[0m\u001b[0;34m(\u001b[0m\u001b[0;34m\"test_server_prioridad.txt\"\u001b[0m\u001b[0;34m,\u001b[0m \u001b[0;34m\"test_server_prioridad_salida.txt\"\u001b[0m\u001b[0;34m)\u001b[0m\u001b[0;34m\u001b[0m\u001b[0;34m\u001b[0m\u001b[0m\n\u001b[0;32m---> 55\u001b[0;31m \u001b[0;32massert\u001b[0m\u001b[0;34m(\u001b[0m\u001b[0mfilecmp\u001b[0m\u001b[0;34m.\u001b[0m\u001b[0mcmp\u001b[0m\u001b[0;34m(\u001b[0m\u001b[0;34m\"test_server_prioridad_salida.txt\"\u001b[0m\u001b[0;34m,\u001b[0m \u001b[0;34m\"test_server_prioridad_salida_correcta.txt\"\u001b[0m\u001b[0;34m)\u001b[0m\u001b[0;34m)\u001b[0m\u001b[0;34m\u001b[0m\u001b[0;34m\u001b[0m\u001b[0m\n\u001b[0m\u001b[1;32m     56\u001b[0m \u001b[0;34m\u001b[0m\u001b[0m\n\u001b[1;32m     57\u001b[0m \u001b[0msimulador_servidor_prioridad\u001b[0m\u001b[0;34m(\u001b[0m\u001b[0;34m\"test_server_prioridad.txt\"\u001b[0m\u001b[0;34m,\u001b[0m \u001b[0;34m\"test_server_prioridad_salida.txt\"\u001b[0m\u001b[0;34m)\u001b[0m\u001b[0;34m\u001b[0m\u001b[0;34m\u001b[0m\u001b[0m\n",
            "\u001b[0;31mAssertionError\u001b[0m: "
          ]
        }
      ],
      "source": [
        "from queue import PriorityQueue\n",
        "import filecmp\n",
        "\n",
        "def anadir_paquete(servidor, caducidad, prioridad):\n",
        "    servidor.put((prioridad, caducidad))\n",
        "\n",
        "def procesar(servidor, tiempos):\n",
        "    perdidos = 0\n",
        "    lista_ordenada = []\n",
        "    while not servidor.empty():\n",
        "        elemento = servidor.get_nowait()\n",
        "        lista_ordenada.append(elemento)\n",
        "    i = 0\n",
        "    while i < len(tiempos):\n",
        "        tiempo = tiempos[i]\n",
        "        if i < len(lista_ordenada):\n",
        "            prioridad, caducidad = lista_ordenada[i]\n",
        "            if caducidad < tiempo:\n",
        "                perdidos += 1\n",
        "            else:\n",
        "                servidor.put((prioridad, caducidad))\n",
        "        i += 1\n",
        "    return perdidos\n",
        "\n",
        "def simulador_servidor_prioridad(path_in, path_out):\n",
        "    servidor = PriorityQueue()\n",
        "    tiempo = 0\n",
        "    lista_tiempo = []\n",
        "    total_perdidos = 0\n",
        "    perdidos_historial = []\n",
        "\n",
        "    with open(path_in) as f, open(path_out, \"w\") as f_out:\n",
        "        entrada = f.readlines()\n",
        "        print(entrada)\n",
        "        for l in entrada:\n",
        "            info = l.split()\n",
        "            print(info)\n",
        "            if info[0] == \"paquete\":\n",
        "                caducidad = float(info[1])\n",
        "                prioridad = float(info[2])\n",
        "                anadir_paquete(servidor, caducidad, prioridad)\n",
        "            elif info[0] == \"t\":\n",
        "                tiempo = float(info[1])\n",
        "                lista_tiempo.append(tiempo)\n",
        "                print(lista_tiempo)\n",
        "            elif info[0] == \"perdidos\":\n",
        "                perdidos_en_este_tiempo = procesar(servidor, lista_tiempo)\n",
        "                total_perdidos += perdidos_en_este_tiempo\n",
        "                perdidos_historial.append(total_perdidos)\n",
        "                lista_tiempo = []\n",
        "                servidor = PriorityQueue()\n",
        "                f_out.write(str(total_perdidos) + \"\\n\")\n",
        "\n",
        "simulador_servidor_prioridad(\"test_server_prioridad.txt\", \"test_server_prioridad_salida.txt\")\n",
        "assert(filecmp.cmp(\"test_server_prioridad_salida.txt\", \"test_server_prioridad_salida_correcta.txt\"))\n",
        "\n",
        "simulador_servidor_prioridad(\"test_server_prioridad.txt\", \"test_server_prioridad_salida.txt\")\n",
        "assert(filecmp.cmp(\"test_server_prioridad_salida.txt\", \"test_server_prioridad_salida_correcta.txt\"))\n",
        "#El fichero server_prioridad_salida_correcta.txt esta creado desde una maquina linux, en caso de estar\n",
        "# en un sistema windows, este ejercicio ejecutadlo en google colab para testearlo"
      ]
    }
  ]
}