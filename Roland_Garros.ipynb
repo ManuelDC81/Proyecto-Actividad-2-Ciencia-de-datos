{
  "nbformat": 4,
  "nbformat_minor": 0,
  "metadata": {
    "colab": {
      "provenance": [],
      "authorship_tag": "ABX9TyMOs9ky6h3Wn0PGvAfeAJdu",
      "include_colab_link": true
    },
    "kernelspec": {
      "name": "python3",
      "display_name": "Python 3"
    },
    "language_info": {
      "name": "python"
    }
  },
  "cells": [
    {
      "cell_type": "markdown",
      "metadata": {
        "id": "view-in-github",
        "colab_type": "text"
      },
      "source": [
        "<a href=\"https://colab.research.google.com/github/ManuelDC81/Proyecto-Actividad-2-Ciencia-de-datos/blob/main/Roland_Garros.ipynb\" target=\"_parent\"><img src=\"https://colab.research.google.com/assets/colab-badge.svg\" alt=\"Open In Colab\"/></a>"
      ]
    },
    {
      "cell_type": "markdown",
      "source": [
        "Roland Garros\n",
        "\n",
        "En el torneo de Roland Garros que se disputa en Junio de 2024, los jugadores son evaluados no solo por sus edades, sino también por sus rendimientos en los partidos que juegan. Se quiere implementar un sistema que permita gestionar la información de los jugadores y realizar varias operaciones para obtener estadísticas y datos importantes sobre ellos.\n",
        "\n",
        "Cada jugador tiene los siguientes datos:\n",
        "\n",
        "* Identificador único (ID).\n",
        "* Nombre.\n",
        "* Edad.\n",
        "* Lista de rendimientos en los partidos (un valor numérico por cada partido jugado).\n",
        "\n",
        "Se deben implementar las siguientes funcionalidades:\n",
        "\n",
        "* Media de Edad Ponderada: Calcular la media de las edades de todos los jugadores, ponderada por la cantidad de partidos jugados.\n",
        "* Media de Rendimiento de un Jugador con Penalización: Calcular la media de rendimiento de un jugador, penalizando a la mitad la nota de los partidos con rendimiento por debajo de un umbral.\n",
        "* Jugador con la Mejor Consistencia: Encontrar el jugador con la menor diferencia entre su mejor y peor rendimiento, indicando que es el más consistente.\n",
        "* Rango de Edad con Filtrado: Determinar la edad mínima y máxima entre todos los jugadores que han jugado más de un cierto número de partidos."
      ],
      "metadata": {
        "id": "12ffqDV22BqH"
      }
    },
    {
      "cell_type": "code",
      "source": [
        "def media_edad_ponderada(jugadores):\n",
        "    media_pd = 0\n",
        "    n = 0\n",
        "    for e in jugadores:\n",
        "        media_pd += e[2]*len(e[3:])\n",
        "        n += len(e[3:])\n",
        "    return (float(media_pd/n))\n",
        "\n",
        "def media_de_un_jugador_con_penalizacion(jugador, umbral):\n",
        "    media_pn = 0\n",
        "    for e in jugador[3:]:\n",
        "        if umbral >= e:\n",
        "            media_pn += e/2\n",
        "        else:\n",
        "            media_pn += e\n",
        "    return (media_pn/len(jugador[3:]))\n",
        "\n",
        "def jugador_mejor_consistencia(jugadores):\n",
        "    jugador_mejor = ''\n",
        "    lista_dif = []\n",
        "    dif = 0\n",
        "    for i in range(len(jugadores)):\n",
        "        if len(jugadores[i]) > 3:\n",
        "            max = jugadores[i][3]\n",
        "            min = jugadores[i][3]\n",
        "            for j in range(3, len(jugadores[i])):\n",
        "                if jugadores[i][j] > max:\n",
        "                    max = jugadores[i][j]\n",
        "                elif jugadores[i][j] < min:\n",
        "                    min = jugadores[i][j]\n",
        "            dif = max - min\n",
        "            if dif >=0 and len(jugadores[i])> 4:\n",
        "                lista_dif.append([jugadores[i][1], dif])\n",
        "    if dif != 0:\n",
        "        jugador_mejor = lista_dif[0][0]\n",
        "        aux = lista_dif[0][1]\n",
        "        for e in lista_dif:\n",
        "            if aux > e[1]:\n",
        "                jugador_mejor = e[0]\n",
        "                aux = e[1]\n",
        "        return jugador_mejor\n",
        "    else:\n",
        "        return None\n",
        "\n",
        "def rango_de_edad_filtrado(jugadores, min_partidos):\n",
        "    lista_rango = ()\n",
        "    min = jugadores[0][2]\n",
        "    max = jugadores[0][2]\n",
        "    cont = 0\n",
        "    for e in jugadores:\n",
        "        if (len(e[2:])-1) >= min_partidos:\n",
        "            cont += cont + 1\n",
        "            if cont == 1:\n",
        "                min = e[2]\n",
        "                max = e[2]\n",
        "            else:\n",
        "                if e[2] < min:\n",
        "                    min = e[2]\n",
        "                if e[2] > max:\n",
        "                    max = e[2]\n",
        "    if cont == 1:\n",
        "        lista_rango = (min, min)\n",
        "    else:\n",
        "        lista_rango = (min, max)\n",
        "\n",
        "    return(lista_rango)\n",
        "\n",
        "# Datos de ejemplo\n",
        "jugadores = [\n",
        "['1234567D', 'Carlos Alcaraza', 21, 90, 85, 92, 90, 77],\n",
        "['4324D', 'Novak Djokovic', 37, 88, 91, 85, 90, 51, 80, 99],\n",
        "['5544C', 'Casper Ruud', 25, 78, 82, 84, 90],\n",
        "['5432F', 'Alexander Zverev', 27, 86, 89, 91]\n",
        "]\n",
        "\n",
        "# Pruebas\n",
        "assert(round(media_edad_ponderada(jugadores))==29)\n",
        "assert(round(media_de_un_jugador_con_penalizacion(['1234567D', 'Carlos Alcaraza', 21, 90, 85, 92, 90, 77],80))==79)\n",
        "assert(jugador_mejor_consistencia(jugadores)==\"Alexander Zverev\")\n",
        "assert(rango_de_edad_filtrado(jugadores, 6)==(37,37))"
      ],
      "metadata": {
        "id": "1HPmEzQF2EUm"
      },
      "execution_count": null,
      "outputs": []
    }
  ]
}